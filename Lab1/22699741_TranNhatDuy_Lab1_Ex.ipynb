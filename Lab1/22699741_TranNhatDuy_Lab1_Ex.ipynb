{
 "cells": [
  {
   "cell_type": "markdown",
   "metadata": {
    "id": "Cj3g7_Xjv0cQ"
   },
   "source": [
    "# Lab 01 - Bài tập"
   ]
  },
  {
   "cell_type": "markdown",
   "metadata": {
    "id": "uHya_O8Nv9Bg"
   },
   "source": [
    "## PYTHON\n"
   ]
  },
  {
   "cell_type": "markdown",
   "metadata": {},
   "source": [
    "1. Viết chương trình nhập vào số nguyên n (n>0). In ra các số nguyên tố từ 1..n\n"
   ]
  },
  {
   "cell_type": "code",
   "execution_count": 26,
   "metadata": {
    "id": "AnQZ06Hxxwlo"
   },
   "outputs": [
    {
     "name": "stdout",
     "output_type": "stream",
     "text": [
      "2\n",
      "3\n",
      "5\n",
      "7\n",
      "11\n",
      "13\n",
      "17\n",
      "19\n",
      "23\n",
      "29\n",
      "31\n",
      "37\n",
      "41\n",
      "43\n",
      "47\n",
      "53\n",
      "59\n",
      "61\n",
      "67\n",
      "71\n",
      "73\n",
      "79\n",
      "83\n",
      "89\n",
      "97\n"
     ]
    }
   ],
   "source": [
    "import math as m\n",
    "def isPrime(n):\n",
    "    if n < 2 :\n",
    "        return False;\n",
    "    elif n == 2:\n",
    "        return True;\n",
    "\n",
    "    for x in range(2,int(m.sqrt(n)) + 1):\n",
    "        if n % x == 0:\n",
    "            return False;\n",
    "    return True;\n",
    "n = int(input());\n",
    "\n",
    "for i in range(0,n):\n",
    "    if(isPrime(i)):\n",
    "        print(i)"
   ]
  },
  {
   "cell_type": "markdown",
   "metadata": {
    "id": "XpmGHRLRxx34"
   },
   "source": [
    "2. Viết chương trình nhập vào số nguyên n có 3 chữ số. Tính tổng các chữ số của n"
   ]
  },
  {
   "cell_type": "code",
   "execution_count": 39,
   "metadata": {
    "id": "AXOFJ9Iwvtvh"
   },
   "outputs": [
    {
     "name": "stdout",
     "output_type": "stream",
     "text": [
      "7\n"
     ]
    }
   ],
   "source": [
    "def sumOfNumber(n):\n",
    "    numberToStr = str(n);\n",
    "    n = 0;\n",
    "    for x in range(0, len(numberToStr)):\n",
    "        n += int(numberToStr[x])\n",
    "    return n;\n",
    "\n",
    "\n",
    "n = int(input())\n",
    "print(sumOfNumber(n));\n",
    "\n"
   ]
  },
  {
   "cell_type": "markdown",
   "metadata": {
    "id": "oba6gvmwyFrZ"
   },
   "source": [
    "3. Viết chương trình nhập vào một dãy các số nguyên được cách nhau bởi khoảng trắng (VD: 32 8 4 6 9...) lưu vào python ở dạng mảng. Thực hiện\n",
    "\n",
    "- Xuất mảng\n",
    "- Tính tổng các phần tử của mảng\n",
    "- Tìm số lớn nhất\n",
    "- Tìm số bé nhất\n",
    "- Sắp xếp mảng theo thứ tự giảm dần\n",
    "- In ra các số chẵn trong mảng"
   ]
  },
  {
   "cell_type": "code",
   "execution_count": 57,
   "metadata": {
    "id": "9XBwANmGyFyY"
   },
   "outputs": [
    {
     "name": "stdout",
     "output_type": "stream",
     "text": [
      "Sum Of Array :80\n",
      "Max :21\n",
      "Min :8\n",
      "Descending:  [21, 20, 12, 10, 9, 8]\n",
      "Even number of Array :\n",
      "20\n",
      "12\n",
      "10\n",
      "8\n"
     ]
    }
   ],
   "source": [
    "def sumOfArray(n):\n",
    "    sum = 0;\n",
    "    for x in n:\n",
    "        sum+=x\n",
    "    return sum;\n",
    "\n",
    "string = str(input())\n",
    "stringtoArr = list(string.split(\" \"))\n",
    "arr_int = [int(x) for x in stringtoArr]\n",
    "\n",
    "print(\"Sum Of Array :%d\" % sumOfArray(arr_int))\n",
    "print(\"Max :%d\" % max(arr_int))\n",
    "print(\"Min :%d\" % min(arr_int))\n",
    "arrSorted = arr_int.copy()\n",
    "arrSorted.sort(reverse=True)\n",
    "print(\"Descending: \",arrSorted)\n",
    "print(\"Even number of Array :\")\n",
    "for x in arrSorted:\n",
    "    if x % 2 ==0:\n",
    "        print(x)\n",
    "\n"
   ]
  },
  {
   "cell_type": "markdown",
   "metadata": {
    "id": "hgGOt_Cxyulx"
   },
   "source": [
    "4. Viết chương trình yêu cầu người dùng nhập họ tên. Hiển thị tên người dùng sau khi đã chuẩn hóa. Biết rằng tên đã chuẩn hóa là:\n",
    "- Ký tự đầu viết hoa\n",
    "- Không có khoảng trắng thừa\n",
    "- Không có ký tự đặc biệt"
   ]
  },
  {
   "cell_type": "code",
   "execution_count": 76,
   "metadata": {
    "id": "duR4BF8Dyu_w"
   },
   "outputs": [
    {
     "name": "stdout",
     "output_type": "stream",
     "text": [
      "Khong co ky tu dac viet:Tran      nHat    dUY\n",
      "Ky tu dau viet hoa:Tran      Nhat    Duy\n",
      "Khong co khoang trang thua:Tran Nhat Duy\n"
     ]
    }
   ],
   "source": [
    "import re as r\n",
    "name = str(input())\n",
    "\n",
    "pattern = r\"[^a-zA-Z\\s]\"\n",
    "name = r.sub(pattern,'',name)\n",
    "print(\"Khong co ky tu dac viet:%s\" % name)\n",
    "name1 = name.title().strip()\n",
    "print(\"Ky tu dau viet hoa:%s\" % name1)\n",
    "pattern = r\"\\s+\"\n",
    "name = r.sub(pattern,' ', name1)\n",
    "print(\"Khong co khoang trang thua:%s\" % name)\n"
   ]
  },
  {
   "cell_type": "markdown",
   "metadata": {
    "id": "W5KucasA0NSA"
   },
   "source": [
    "5. Viết chương trình nhập vào một số nguyên dương (n>0). Cho biết n có phải là số đối xứng hay không? Biết số đối xứng là số viết xuôi hay viết ngược đều như nhau"
   ]
  },
  {
   "cell_type": "code",
   "execution_count": 95,
   "metadata": {
    "id": "FTH5V3je0YPg"
   },
   "outputs": [
    {
     "name": "stdout",
     "output_type": "stream",
     "text": [
      "123312 khong la so doi xung\n"
     ]
    }
   ],
   "source": [
    "from collections import deque\n",
    "\n",
    "\n",
    "stack = deque()\n",
    "\n",
    "def check(n):\n",
    "    if len(n)%2 != 0:\n",
    "        return False;\n",
    "    for x in range(0,int(len(n)/2)):\n",
    "        stack.append(n[x]);\n",
    "\n",
    "    for x in range(int(len(n)/2),int(len(n))):\n",
    "        if stack.pop()!= n[x]:\n",
    "            return False\n",
    "    return True\n",
    "\n",
    "n = int(input())\n",
    "arr = [int(x) for x in str(n)]\n",
    "if check(arr):\n",
    "    print(\"%d la so doi xung\" % n);\n",
    "else :\n",
    "    print(\"%d khong la so doi xung\" % n);\n",
    "\n"
   ]
  },
  {
   "cell_type": "markdown",
   "metadata": {},
   "source": [
    "6. Với số nguyên n nhất định, hãy viết chương trình hiển thị dictionary chứa các cặp (i, i*i) ; biết i có giá trị từ 1..n\n"
   ]
  },
  {
   "cell_type": "code",
   "execution_count": 99,
   "metadata": {},
   "outputs": [
    {
     "name": "stdout",
     "output_type": "stream",
     "text": [
      "{1: 1, 2: 4, 3: 9, 4: 16, 5: 25, 6: 36, 7: 49, 8: 64, 9: 81, 10: 100}\n"
     ]
    }
   ],
   "source": [
    "n = int(input())\n",
    "\n",
    "dic = dict()\n",
    "\n",
    "for x in range(1,n+1):\n",
    "    dic.setdefault(x,x*x)\n",
    "\n",
    "print(dic)\n",
    "\n"
   ]
  },
  {
   "cell_type": "markdown",
   "metadata": {},
   "source": [
    "7. Viết chương trình tìm tất cả các số chia hết cho 7 nhưng không phải bội số của 5, nằm trong đoạn 2000 và 3200 (tính cả 2000 và 3200). Các số thu được sẽ được in thành chuỗi trên một dòng, cách nhau bằng dấu phẩy"
   ]
  },
  {
   "cell_type": "code",
   "execution_count": 108,
   "metadata": {},
   "outputs": [
    {
     "name": "stdout",
     "output_type": "stream",
     "text": [
      "2002,2009,2016,2023,2037,2044,2051,2058,2072,2079,2086,2093,2107,2114,2121,2128,2142,2149,2156,2163,2177,2184,2191,2198,2212,2219,2226,2233,2247,2254,2261,2268,2282,2289,2296,2303,2317,2324,2331,2338,2352,2359,2366,2373,2387,2394,2401,2408,2422,2429,2436,2443,2457,2464,2471,2478,2492,2499,2506,2513,2527,2534,2541,2548,2562,2569,2576,2583,2597,2604,2611,2618,2632,2639,2646,2653,2667,2674,2681,2688,2702,2709,2716,2723,2737,2744,2751,2758,2772,2779,2786,2793,2807,2814,2821,2828,2842,2849,2856,2863,2877,2884,2891,2898,2912,2919,2926,2933,2947,2954,2961,2968,2982,2989,2996,3003,3017,3024,3031,3038,3052,3059,3066,3073,3087,3094,3101,3108,3122,3129,3136,3143,3157,3164,3171,3178,3192,3199,\n"
     ]
    }
   ],
   "source": [
    "arr = \"\";\n",
    "for x in range(2000,3201):\n",
    "    if x % 7 ==0 and x % 5 !=0:\n",
    "        arr = arr + str(x) + ','\n",
    "print(arr)"
   ]
  },
  {
   "cell_type": "markdown",
   "metadata": {},
   "source": [
    "8. Viết chương trình chấp nhận một chuỗi số, phân tách bằng dấu phẩy từ giao diện điều khiển, tạo ra một List và một tuple chứa mọi số.\n",
    "\n",
    "    Ví dụ:\n",
    "\n",
    "    ```\n",
    "    Đầu vào được cung cấp là '34,67,55,33,12,98' thì đầu ra là:\n",
    "\n",
    "    [34, 67, 55, 33, 12, 98]\n",
    "    (34, 67, 55, 33, 12, 98)\n",
    "    ```\n"
   ]
  },
  {
   "cell_type": "code",
   "execution_count": 114,
   "metadata": {},
   "outputs": [
    {
     "name": "stdout",
     "output_type": "stream",
     "text": [
      "[34, 67, 55, 33, 12, 98]\n",
      "(34, 67, 55, 33, 12, 98)\n"
     ]
    }
   ],
   "source": [
    "string = str(input())\n",
    "\n",
    "arr = list(string.split(','));\n",
    "arr = [int(x) for x in arr]\n",
    "tup = tuple([int(x) for x in arr])\n",
    "\n",
    "print(arr)\n",
    "print(tup)"
   ]
  },
  {
   "cell_type": "markdown",
   "metadata": {},
   "source": [
    "9. Viết hàm nhận vào một danh sách các số nguyên. Hãy viết hàm trả về một danh sách gồm các số không trùng nhau trong danh sách ban đầu"
   ]
  },
  {
   "cell_type": "code",
   "execution_count": 115,
   "metadata": {},
   "outputs": [
    {
     "name": "stdout",
     "output_type": "stream",
     "text": [
      "[1, 2, 3, 4, 5, 6, 7, 8, 9, 10]\n"
     ]
    }
   ],
   "source": [
    "def unique_number(n):\n",
    "    return list(set(n))\n",
    "\n",
    "print(unique_number([1,1,2,3,4,5,5,6,7,8,9,9,10,10]))"
   ]
  },
  {
   "cell_type": "markdown",
   "metadata": {},
   "source": [
    "10. Viết hàm có tham số đầu vào là một list L có các phần tử là chuỗi. Hãy tạo ra một dictionary D mã hóa, với mỗi một phần tử trong L được mã hóa thành một con số (theo thứ tự từ 0 tăng dần lên 1 đơn vị). Sau đó trả về list đã được mã hóa\n",
    "\n",
    "    Ví dụ:\n",
    "\n",
    "    ```\n",
    "    Cho L = [\"đen\",\"vàng\",\"xanh\",\"vàng\",\"xanh\",\"đỏ\",\"hồng\"]\n",
    "\n",
    "    Xây dựng dictionary mã hóa:\n",
    "    D = {'đen':0,'vàng':1,'xanh':2,'đỏ':3,'hồng':4}\n",
    "\n",
    "    Trả về List mã hóa:\n",
    "    L_mahoa = [0, 1, 2, 1, 2, 3, 4]\n",
    "    ```"
   ]
  },
  {
   "cell_type": "code",
   "execution_count": 116,
   "metadata": {},
   "outputs": [
    {
     "name": "stdout",
     "output_type": "stream",
     "text": [
      "[0, 1, 2, 1, 2, 3, 4]\n"
     ]
    }
   ],
   "source": [
    "def normalize(n):\n",
    "    dic = dict(đen = 0,vàng = 1, xanh = 2, đỏ = 3, hồng = 4)\n",
    "    arr = list()\n",
    "    for x in n:\n",
    "        arr.append(dic.get(x))\n",
    "    return arr;\n",
    "\n",
    "print(normalize([\"đen\",\"vàng\",\"xanh\",\"vàng\",\"xanh\",\"đỏ\",\"hồng\"]))"
   ]
  },
  {
   "cell_type": "markdown",
   "metadata": {},
   "source": [
    "---"
   ]
  }
 ],
 "metadata": {
  "colab": {
   "authorship_tag": "ABX9TyOelhBBO7DINQ7b3uUiVhbi",
   "provenance": []
  },
  "kernelspec": {
   "display_name": "Python 3",
   "name": "python3"
  },
  "language_info": {
   "codemirror_mode": {
    "name": "ipython",
    "version": 3
   },
   "file_extension": ".py",
   "mimetype": "text/x-python",
   "name": "python",
   "nbconvert_exporter": "python",
   "pygments_lexer": "ipython3",
   "version": "3.12.5"
  }
 },
 "nbformat": 4,
 "nbformat_minor": 0
}
